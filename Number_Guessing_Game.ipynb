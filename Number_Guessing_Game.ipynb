{
 "cells": [
  {
   "cell_type": "code",
   "execution_count": null,
   "id": "f0d795cc-8b2c-4d4c-a2a9-ec362920f9c5",
   "metadata": {},
   "outputs": [],
   "source": [
    "# Create a number guessing game. Where you have to generate a random number\n",
    "# in between 1 to 100 and user have to prompt a number for guess.\n",
    "# if its high or low number let the user know and guide them through\n",
    "# the process to guess correct number."
   ]
  },
  {
   "cell_type": "code",
   "execution_count": null,
   "id": "7b52294e-679e-438b-9731-051276e6e5b5",
   "metadata": {},
   "outputs": [],
   "source": []
  },
  {
   "cell_type": "code",
   "execution_count": 7,
   "id": "fced6c9f-7adc-44d3-8a14-2c35373f258e",
   "metadata": {},
   "outputs": [],
   "source": [
    "import random"
   ]
  },
  {
   "cell_type": "code",
   "execution_count": 10,
   "id": "70039430-1a8e-4649-8fad-3f634b264e86",
   "metadata": {},
   "outputs": [
    {
     "data": {
      "text/plain": [
       "77"
      ]
     },
     "execution_count": 10,
     "metadata": {},
     "output_type": "execute_result"
    }
   ],
   "source": [
    "random_number = random.randint(1,100)\n",
    "random_number"
   ]
  },
  {
   "cell_type": "code",
   "execution_count": 11,
   "id": "3a3cd1ed-f543-45d2-aabf-d5bd6469aa49",
   "metadata": {},
   "outputs": [
    {
     "name": "stdin",
     "output_type": "stream",
     "text": [
      "Guess any number between 1 and 100 5\n"
     ]
    }
   ],
   "source": [
    "user_guess = int(input(\"Guess any number between 1 and 100\"))"
   ]
  },
  {
   "cell_type": "code",
   "execution_count": 12,
   "id": "fcc59fa7-9aaa-4d2e-bd5e-6ca1dd07de3f",
   "metadata": {},
   "outputs": [
    {
     "name": "stdout",
     "output_type": "stream",
     "text": [
      "The number you have guessed is smaller\n"
     ]
    },
    {
     "name": "stdin",
     "output_type": "stream",
     "text": [
      "Enter a bigger number 10\n"
     ]
    },
    {
     "name": "stdout",
     "output_type": "stream",
     "text": [
      "The number you have guessed is smaller\n"
     ]
    },
    {
     "name": "stdin",
     "output_type": "stream",
     "text": [
      "Enter a bigger number 15\n"
     ]
    },
    {
     "name": "stdout",
     "output_type": "stream",
     "text": [
      "The number you have guessed is smaller\n"
     ]
    },
    {
     "name": "stdin",
     "output_type": "stream",
     "text": [
      "Enter a bigger number 20\n"
     ]
    },
    {
     "name": "stdout",
     "output_type": "stream",
     "text": [
      "The number you have guessed is smaller\n"
     ]
    },
    {
     "name": "stdin",
     "output_type": "stream",
     "text": [
      "Enter a bigger number 50\n"
     ]
    },
    {
     "name": "stdout",
     "output_type": "stream",
     "text": [
      "The number you have guessed is smaller\n"
     ]
    },
    {
     "name": "stdin",
     "output_type": "stream",
     "text": [
      "Enter a bigger number 60\n"
     ]
    },
    {
     "name": "stdout",
     "output_type": "stream",
     "text": [
      "The number you have guessed is smaller\n"
     ]
    },
    {
     "name": "stdin",
     "output_type": "stream",
     "text": [
      "Enter a bigger number 70\n"
     ]
    },
    {
     "name": "stdout",
     "output_type": "stream",
     "text": [
      "The number you have guessed is smaller\n"
     ]
    },
    {
     "name": "stdin",
     "output_type": "stream",
     "text": [
      "Enter a bigger number 80\n"
     ]
    },
    {
     "name": "stdout",
     "output_type": "stream",
     "text": [
      "The number you have guessed is bigger.\n"
     ]
    },
    {
     "name": "stdin",
     "output_type": "stream",
     "text": [
      "Enter a smaller number 75\n"
     ]
    },
    {
     "name": "stdout",
     "output_type": "stream",
     "text": [
      "The number you have guessed is smaller\n"
     ]
    },
    {
     "name": "stdin",
     "output_type": "stream",
     "text": [
      "Enter a bigger number 78\n"
     ]
    },
    {
     "name": "stdout",
     "output_type": "stream",
     "text": [
      "The number you have guessed is bigger.\n"
     ]
    },
    {
     "name": "stdin",
     "output_type": "stream",
     "text": [
      "Enter a smaller number 77\n"
     ]
    },
    {
     "name": "stdout",
     "output_type": "stream",
     "text": [
      "Congratulations. You guessed the number successfully\n"
     ]
    }
   ],
   "source": [
    "while(user_guess != random_number):\n",
    "    if(user_guess > random_number):\n",
    "        print(\"The number you have guessed is bigger.\")\n",
    "        user_guess = int(input(\"Enter a smaller number\"))\n",
    "    if(user_guess < random_number):\n",
    "        print(\"The number you have guessed is smaller\")\n",
    "        user_guess = int(input(\"Enter a bigger number\"))\n",
    "print(\"Congratulations. You guessed the number successfully\")"
   ]
  },
  {
   "cell_type": "code",
   "execution_count": null,
   "id": "e784aa3c-95ed-44d6-a6f2-8ce9ce6172ca",
   "metadata": {},
   "outputs": [],
   "source": []
  }
 ],
 "metadata": {
  "kernelspec": {
   "display_name": "Python 3 (ipykernel)",
   "language": "python",
   "name": "python3"
  },
  "language_info": {
   "codemirror_mode": {
    "name": "ipython",
    "version": 3
   },
   "file_extension": ".py",
   "mimetype": "text/x-python",
   "name": "python",
   "nbconvert_exporter": "python",
   "pygments_lexer": "ipython3",
   "version": "3.11.7"
  }
 },
 "nbformat": 4,
 "nbformat_minor": 5
}
