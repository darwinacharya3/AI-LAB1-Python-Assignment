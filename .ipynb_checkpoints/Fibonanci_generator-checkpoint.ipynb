{
 "cells": [
  {
   "cell_type": "code",
   "execution_count": 1,
   "id": "2215fe82-95a9-4d1e-9cad-46fa72757a6e",
   "metadata": {},
   "outputs": [],
   "source": [
    "# Write a program to generate the Fibonacci sequence of a given number."
   ]
  },
  {
   "cell_type": "code",
   "execution_count": 1,
   "id": "70f68a25-b328-4eb2-91ba-4e055b1661d3",
   "metadata": {},
   "outputs": [],
   "source": [
    "def fibo(n):\n",
    "    if n<=0:\n",
    "        return 0\n",
    "    elif n == 1:\n",
    "        return 1\n",
    "    else:\n",
    "        return fibo(n-1) + fibo(n-2)"
   ]
  },
  {
   "cell_type": "code",
   "execution_count": 2,
   "id": "4ff73657-93bc-4dff-b268-083af30c4199",
   "metadata": {},
   "outputs": [],
   "source": [
    "def fibo_seq(n_terms):\n",
    "    seq = []\n",
    "\n",
    "    for i in range(n_terms):\n",
    "        seq.append(fibo(i))\n",
    "    \n",
    "    return seq"
   ]
  },
  {
   "cell_type": "code",
   "execution_count": 6,
   "id": "35ef8247-6d32-4bab-8dd0-19c388498254",
   "metadata": {},
   "outputs": [
    {
     "name": "stdin",
     "output_type": "stream",
     "text": [
      "Enter the number of terms in fibonacci series 10\n"
     ]
    }
   ],
   "source": [
    "n_terms = int(input(\"Enter the number of terms in fibonacci series\"))"
   ]
  },
  {
   "cell_type": "code",
   "execution_count": 7,
   "id": "89143dd9-8ca3-4e96-b8de-358114020b14",
   "metadata": {},
   "outputs": [],
   "source": [
    "fib_sequence = fibo_seq(n_terms)"
   ]
  },
  {
   "cell_type": "code",
   "execution_count": 8,
   "id": "e52043f9-4a39-4ecf-a73c-0a4e9c6e7bbb",
   "metadata": {},
   "outputs": [
    {
     "name": "stdout",
     "output_type": "stream",
     "text": [
      "Fibonacci sequence is: \n",
      "[0, 1, 1, 2, 3, 5, 8, 13, 21, 34]\n"
     ]
    }
   ],
   "source": [
    "print(\"Fibonacci sequence is: \" )\n",
    "print(fib_sequence)"
   ]
  },
  {
   "cell_type": "code",
   "execution_count": null,
   "id": "64e7acda-7d36-4334-a77f-4e198a968bc3",
   "metadata": {},
   "outputs": [],
   "source": []
  }
 ],
 "metadata": {
  "kernelspec": {
   "display_name": "Python 3 (ipykernel)",
   "language": "python",
   "name": "python3"
  },
  "language_info": {
   "codemirror_mode": {
    "name": "ipython",
    "version": 3
   },
   "file_extension": ".py",
   "mimetype": "text/x-python",
   "name": "python",
   "nbconvert_exporter": "python",
   "pygments_lexer": "ipython3",
   "version": "3.11.7"
  }
 },
 "nbformat": 4,
 "nbformat_minor": 5
}
