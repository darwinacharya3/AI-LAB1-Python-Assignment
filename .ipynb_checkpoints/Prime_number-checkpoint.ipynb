{
 "cells": [
  {
   "cell_type": "code",
   "execution_count": 2,
   "id": "011bd7dd-d877-424b-ad15-65dfd180eb09",
   "metadata": {},
   "outputs": [],
   "source": [
    "# Write a program to find prime number with in a range using function."
   ]
  },
  {
   "cell_type": "code",
   "execution_count": 3,
   "id": "14d50b37-e6b1-43b2-9fe7-265111719491",
   "metadata": {},
   "outputs": [],
   "source": [
    "def isPrime(num):\n",
    "    flag = 0\n",
    "    for i in range(2, num):\n",
    "        if (num % i == 0):\n",
    "            flag = 1\n",
    "            break\n",
    "        else :\n",
    "            flag = 0   \n",
    "    if(flag == 1):\n",
    "        return False\n",
    "    elif(flag == 0):\n",
    "        return True "
   ]
  },
  {
   "cell_type": "code",
   "execution_count": 4,
   "id": "403177b6-c874-4769-9ff9-e146faef0971",
   "metadata": {},
   "outputs": [],
   "source": [
    "def find_primes_in_range(start, end):\n",
    "    \n",
    "    prime_numbers = []\n",
    "    for num in range(start, end + 1):\n",
    "        if is_prime(num):\n",
    "            prime_numbers.append(num)\n",
    "    return prime_numbers\n"
   ]
  },
  {
   "cell_type": "code",
   "execution_count": 5,
   "id": "df92ca1b-cc40-4c35-91a1-e5cbebcfe9cc",
   "metadata": {},
   "outputs": [
    {
     "name": "stdin",
     "output_type": "stream",
     "text": [
      "Enter the start of the range:  1\n",
      "Enter the end of the range:  100\n"
     ]
    }
   ],
   "source": [
    "start = int(input(\"Enter the start of the range: \"))\n",
    "end = int(input(\"Enter the end of the range: \"))"
   ]
  },
  {
   "cell_type": "code",
   "execution_count": 6,
   "id": "b49c2c2a-1569-4f93-872b-44cd40d096e6",
   "metadata": {},
   "outputs": [
    {
     "name": "stdout",
     "output_type": "stream",
     "text": [
      "Prime numbers between 1 and 100 are:\n",
      "[2, 3, 5, 7, 11, 13, 17, 19, 23, 29, 31, 37, 41, 43, 47, 53, 59, 61, 67, 71, 73, 79, 83, 89, 97]\n"
     ]
    }
   ],
   "source": [
    "print(f\"Prime numbers between {start} and {end} are:\")\n",
    "print(find_primes_in_range(start, end))"
   ]
  },
  {
   "cell_type": "code",
   "execution_count": null,
   "id": "f643a6bc-3c69-45ad-90c4-74899a253ace",
   "metadata": {},
   "outputs": [],
   "source": []
  }
 ],
 "metadata": {
  "kernelspec": {
   "display_name": "Python 3 (ipykernel)",
   "language": "python",
   "name": "python3"
  },
  "language_info": {
   "codemirror_mode": {
    "name": "ipython",
    "version": 3
   },
   "file_extension": ".py",
   "mimetype": "text/x-python",
   "name": "python",
   "nbconvert_exporter": "python",
   "pygments_lexer": "ipython3",
   "version": "3.11.7"
  }
 },
 "nbformat": 4,
 "nbformat_minor": 5
}
